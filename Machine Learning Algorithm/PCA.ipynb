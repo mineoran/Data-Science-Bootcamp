{
 "cells": [
  {
   "cell_type": "code",
   "execution_count": 1,
   "id": "8998e26d",
   "metadata": {},
   "outputs": [],
   "source": [
    "import pandas as pd\n",
    "import numpy as np\n",
    "import matplotlib.pyplot as plt"
   ]
  },
  {
   "cell_type": "code",
   "execution_count": 2,
   "id": "7b93a906",
   "metadata": {},
   "outputs": [],
   "source": [
    "import pandas as pd\n",
    "import numpy as np\n",
    "import matplotlib.pyplot as plt\n",
    "df =pd.read_csv('https://raw.githubusercontent.com/glosaCarbon/kodluyoruz_carbon_veri_bilimi_bootcamp/week4/week04/credit_risk_dataset.csv')"
   ]
  },
  {
   "cell_type": "code",
   "execution_count": 3,
   "id": "c2135b85",
   "metadata": {},
   "outputs": [
    {
     "name": "stdout",
     "output_type": "stream",
     "text": [
      "person_age                       0\n",
      "person_income                    0\n",
      "person_home_ownership            0\n",
      "person_emp_length              895\n",
      "loan_intent                      0\n",
      "loan_grade                       0\n",
      "loan_amnt                        0\n",
      "loan_int_rate                 3116\n",
      "loan_status                      0\n",
      "loan_percent_income              0\n",
      "cb_person_default_on_file        0\n",
      "cb_person_cred_hist_length       0\n",
      "dtype: int64\n"
     ]
    }
   ],
   "source": [
    "print(df.isnull().sum())\n"
   ]
  },
  {
   "cell_type": "code",
   "execution_count": 4,
   "id": "e89fe454",
   "metadata": {},
   "outputs": [],
   "source": [
    "# Null değerleri sütun ortalaması ile dolduruyoruz\n",
    "df[\"person_emp_length\"].fillna(df[\"person_emp_length\"].median(), inplace=True)\n",
    "df[\"loan_int_rate\"].fillna(df[\"loan_int_rate\"].median(), inplace=True)"
   ]
  },
  {
   "cell_type": "code",
   "execution_count": 5,
   "id": "ff3dcfed",
   "metadata": {},
   "outputs": [
    {
     "data": {
      "text/plain": [
       "165"
      ]
     },
     "execution_count": 5,
     "metadata": {},
     "output_type": "execute_result"
    }
   ],
   "source": [
    "df.duplicated().sum()\n"
   ]
  },
  {
   "cell_type": "code",
   "execution_count": 6,
   "id": "6660e272",
   "metadata": {},
   "outputs": [],
   "source": [
    "df.drop_duplicates(inplace=True)\n"
   ]
  },
  {
   "cell_type": "code",
   "execution_count": 7,
   "id": "42cb0c56",
   "metadata": {},
   "outputs": [
    {
     "data": {
      "text/html": [
       "<div>\n",
       "<style scoped>\n",
       "    .dataframe tbody tr th:only-of-type {\n",
       "        vertical-align: middle;\n",
       "    }\n",
       "\n",
       "    .dataframe tbody tr th {\n",
       "        vertical-align: top;\n",
       "    }\n",
       "\n",
       "    .dataframe thead th {\n",
       "        text-align: right;\n",
       "    }\n",
       "</style>\n",
       "<table border=\"1\" class=\"dataframe\">\n",
       "  <thead>\n",
       "    <tr style=\"text-align: right;\">\n",
       "      <th></th>\n",
       "      <th>count</th>\n",
       "      <th>mean</th>\n",
       "      <th>std</th>\n",
       "      <th>min</th>\n",
       "      <th>25%</th>\n",
       "      <th>50%</th>\n",
       "      <th>75%</th>\n",
       "      <th>max</th>\n",
       "    </tr>\n",
       "  </thead>\n",
       "  <tbody>\n",
       "    <tr>\n",
       "      <th>person_age</th>\n",
       "      <td>32416.0</td>\n",
       "      <td>27.747008</td>\n",
       "      <td>6.354100</td>\n",
       "      <td>20.00</td>\n",
       "      <td>23.00</td>\n",
       "      <td>26.00</td>\n",
       "      <td>30.00</td>\n",
       "      <td>144.00</td>\n",
       "    </tr>\n",
       "    <tr>\n",
       "      <th>person_income</th>\n",
       "      <td>32416.0</td>\n",
       "      <td>66091.640826</td>\n",
       "      <td>62015.580269</td>\n",
       "      <td>4000.00</td>\n",
       "      <td>38542.00</td>\n",
       "      <td>55000.00</td>\n",
       "      <td>79218.00</td>\n",
       "      <td>6000000.00</td>\n",
       "    </tr>\n",
       "    <tr>\n",
       "      <th>person_emp_length</th>\n",
       "      <td>32416.0</td>\n",
       "      <td>4.768880</td>\n",
       "      <td>4.090411</td>\n",
       "      <td>0.00</td>\n",
       "      <td>2.00</td>\n",
       "      <td>4.00</td>\n",
       "      <td>7.00</td>\n",
       "      <td>123.00</td>\n",
       "    </tr>\n",
       "    <tr>\n",
       "      <th>loan_amnt</th>\n",
       "      <td>32416.0</td>\n",
       "      <td>9593.845632</td>\n",
       "      <td>6322.730241</td>\n",
       "      <td>500.00</td>\n",
       "      <td>5000.00</td>\n",
       "      <td>8000.00</td>\n",
       "      <td>12250.00</td>\n",
       "      <td>35000.00</td>\n",
       "    </tr>\n",
       "    <tr>\n",
       "      <th>loan_int_rate</th>\n",
       "      <td>32416.0</td>\n",
       "      <td>11.014662</td>\n",
       "      <td>3.083050</td>\n",
       "      <td>5.42</td>\n",
       "      <td>8.49</td>\n",
       "      <td>10.99</td>\n",
       "      <td>13.11</td>\n",
       "      <td>23.22</td>\n",
       "    </tr>\n",
       "    <tr>\n",
       "      <th>loan_status</th>\n",
       "      <td>32416.0</td>\n",
       "      <td>0.218688</td>\n",
       "      <td>0.413363</td>\n",
       "      <td>0.00</td>\n",
       "      <td>0.00</td>\n",
       "      <td>0.00</td>\n",
       "      <td>0.00</td>\n",
       "      <td>1.00</td>\n",
       "    </tr>\n",
       "    <tr>\n",
       "      <th>loan_percent_income</th>\n",
       "      <td>32416.0</td>\n",
       "      <td>0.170250</td>\n",
       "      <td>0.106812</td>\n",
       "      <td>0.00</td>\n",
       "      <td>0.09</td>\n",
       "      <td>0.15</td>\n",
       "      <td>0.23</td>\n",
       "      <td>0.83</td>\n",
       "    </tr>\n",
       "    <tr>\n",
       "      <th>cb_person_cred_hist_length</th>\n",
       "      <td>32416.0</td>\n",
       "      <td>5.811297</td>\n",
       "      <td>4.059030</td>\n",
       "      <td>2.00</td>\n",
       "      <td>3.00</td>\n",
       "      <td>4.00</td>\n",
       "      <td>8.00</td>\n",
       "      <td>30.00</td>\n",
       "    </tr>\n",
       "  </tbody>\n",
       "</table>\n",
       "</div>"
      ],
      "text/plain": [
       "                              count          mean           std      min  \\\n",
       "person_age                  32416.0     27.747008      6.354100    20.00   \n",
       "person_income               32416.0  66091.640826  62015.580269  4000.00   \n",
       "person_emp_length           32416.0      4.768880      4.090411     0.00   \n",
       "loan_amnt                   32416.0   9593.845632   6322.730241   500.00   \n",
       "loan_int_rate               32416.0     11.014662      3.083050     5.42   \n",
       "loan_status                 32416.0      0.218688      0.413363     0.00   \n",
       "loan_percent_income         32416.0      0.170250      0.106812     0.00   \n",
       "cb_person_cred_hist_length  32416.0      5.811297      4.059030     2.00   \n",
       "\n",
       "                                 25%       50%       75%         max  \n",
       "person_age                     23.00     26.00     30.00      144.00  \n",
       "person_income               38542.00  55000.00  79218.00  6000000.00  \n",
       "person_emp_length               2.00      4.00      7.00      123.00  \n",
       "loan_amnt                    5000.00   8000.00  12250.00    35000.00  \n",
       "loan_int_rate                   8.49     10.99     13.11       23.22  \n",
       "loan_status                     0.00      0.00      0.00        1.00  \n",
       "loan_percent_income             0.09      0.15      0.23        0.83  \n",
       "cb_person_cred_hist_length      3.00      4.00      8.00       30.00  "
      ]
     },
     "execution_count": 7,
     "metadata": {},
     "output_type": "execute_result"
    }
   ],
   "source": [
    "df.describe().T\n"
   ]
  },
  {
   "cell_type": "code",
   "execution_count": 8,
   "id": "3c495773",
   "metadata": {},
   "outputs": [],
   "source": [
    "# Outlier temizliği\n",
    "df = df[df['person_age']<=100]\n",
    "df = df[df['person_emp_length'] <= 60]\n",
    "df = df[df['person_income']<=4e6]"
   ]
  },
  {
   "cell_type": "code",
   "execution_count": 9,
   "id": "1c01b32a",
   "metadata": {},
   "outputs": [
    {
     "data": {
      "text/plain": [
       "Index(['person_home_ownership', 'loan_intent', 'loan_grade',\n",
       "       'cb_person_default_on_file'],\n",
       "      dtype='object')"
      ]
     },
     "execution_count": 9,
     "metadata": {},
     "output_type": "execute_result"
    }
   ],
   "source": [
    "# Kategorik verileri alıyoruz ve one hot encoding haline getiriyoruz\n",
    "cat_cols = pd.DataFrame(df[df.select_dtypes(include=['object']).columns])\n",
    "cat_cols.columns"
   ]
  },
  {
   "cell_type": "code",
   "execution_count": 10,
   "id": "e6ac3247",
   "metadata": {},
   "outputs": [],
   "source": [
    "encoded_cat_cols = pd.get_dummies(cat_cols)\n",
    "df.drop(df.select_dtypes(include=['object']).columns, axis=1,inplace=True)\n",
    "df = pd.concat([df,encoded_cat_cols], axis=1)"
   ]
  },
  {
   "cell_type": "code",
   "execution_count": 11,
   "id": "382d87cc",
   "metadata": {},
   "outputs": [],
   "source": [
    "X = df.drop('loan_status', axis=1).values\n",
    "y = df['loan_status'].values"
   ]
  },
  {
   "cell_type": "code",
   "execution_count": 12,
   "id": "474353b8",
   "metadata": {},
   "outputs": [],
   "source": [
    "# Verileri train ve test olarak ikiye ayırıyoruz\n",
    "\n",
    "from sklearn.model_selection import StratifiedShuffleSplit\n",
    "\n",
    "split = StratifiedShuffleSplit(1, test_size=0.1)\n",
    "train_idx, test_idx = next(split.split(X, y))\n",
    "train_x = X[train_idx]\n",
    "test_x = X[test_idx]\n",
    "\n",
    "train_y = y[train_idx]\n",
    "test_y = y[test_idx]"
   ]
  },
  {
   "cell_type": "code",
   "execution_count": 13,
   "id": "9c6b9e4d",
   "metadata": {},
   "outputs": [
    {
     "data": {
      "text/plain": [
       "Index(['person_age', 'person_income', 'person_emp_length', 'loan_amnt',\n",
       "       'loan_int_rate', 'loan_status', 'loan_percent_income',\n",
       "       'cb_person_cred_hist_length', 'person_home_ownership_MORTGAGE',\n",
       "       'person_home_ownership_OTHER', 'person_home_ownership_OWN',\n",
       "       'person_home_ownership_RENT', 'loan_intent_DEBTCONSOLIDATION',\n",
       "       'loan_intent_EDUCATION', 'loan_intent_HOMEIMPROVEMENT',\n",
       "       'loan_intent_MEDICAL', 'loan_intent_PERSONAL', 'loan_intent_VENTURE',\n",
       "       'loan_grade_A', 'loan_grade_B', 'loan_grade_C', 'loan_grade_D',\n",
       "       'loan_grade_E', 'loan_grade_F', 'loan_grade_G',\n",
       "       'cb_person_default_on_file_N', 'cb_person_default_on_file_Y'],\n",
       "      dtype='object')"
      ]
     },
     "execution_count": 13,
     "metadata": {},
     "output_type": "execute_result"
    }
   ],
   "source": [
    "df.columns"
   ]
  },
  {
   "cell_type": "code",
   "execution_count": 25,
   "id": "f26023d0",
   "metadata": {},
   "outputs": [
    {
     "data": {
      "text/html": [
       "<div>\n",
       "<style scoped>\n",
       "    .dataframe tbody tr th:only-of-type {\n",
       "        vertical-align: middle;\n",
       "    }\n",
       "\n",
       "    .dataframe tbody tr th {\n",
       "        vertical-align: top;\n",
       "    }\n",
       "\n",
       "    .dataframe thead th {\n",
       "        text-align: right;\n",
       "    }\n",
       "</style>\n",
       "<table border=\"1\" class=\"dataframe\">\n",
       "  <thead>\n",
       "    <tr style=\"text-align: right;\">\n",
       "      <th></th>\n",
       "      <th>PC1</th>\n",
       "      <th>PC2</th>\n",
       "      <th>PC3</th>\n",
       "    </tr>\n",
       "  </thead>\n",
       "  <tbody>\n",
       "    <tr>\n",
       "      <th>0</th>\n",
       "      <td>1.350200</td>\n",
       "      <td>-1.614818</td>\n",
       "      <td>0.839037</td>\n",
       "    </tr>\n",
       "    <tr>\n",
       "      <th>1</th>\n",
       "      <td>0.840095</td>\n",
       "      <td>-2.432005</td>\n",
       "      <td>-0.242249</td>\n",
       "    </tr>\n",
       "    <tr>\n",
       "      <th>2</th>\n",
       "      <td>-1.086453</td>\n",
       "      <td>0.920324</td>\n",
       "      <td>0.620244</td>\n",
       "    </tr>\n",
       "    <tr>\n",
       "      <th>3</th>\n",
       "      <td>3.136415</td>\n",
       "      <td>-0.671495</td>\n",
       "      <td>-0.954175</td>\n",
       "    </tr>\n",
       "    <tr>\n",
       "      <th>4</th>\n",
       "      <td>-0.412950</td>\n",
       "      <td>-2.173504</td>\n",
       "      <td>0.822256</td>\n",
       "    </tr>\n",
       "  </tbody>\n",
       "</table>\n",
       "</div>"
      ],
      "text/plain": [
       "        PC1       PC2       PC3\n",
       "0  1.350200 -1.614818  0.839037\n",
       "1  0.840095 -2.432005 -0.242249\n",
       "2 -1.086453  0.920324  0.620244\n",
       "3  3.136415 -0.671495 -0.954175\n",
       "4 -0.412950 -2.173504  0.822256"
      ]
     },
     "execution_count": 25,
     "metadata": {},
     "output_type": "execute_result"
    }
   ],
   "source": [
    "from sklearn.decomposition import PCA\n",
    "pca = PCA(n_components=3)\n",
    "principalComponents = pca.fit_transform (train_x)\n",
    "principalDf = pd.DataFrame(data = principalComponents, columns=['PC1','PC2','PC3']) #PC = Principal component \n",
    "principalDf.head()"
   ]
  },
  {
   "cell_type": "markdown",
   "id": "713e74b9",
   "metadata": {},
   "source": [
    "### Explained Variance\n",
    "The explained variance tells us how much information (variance) can be attributed to each of the principal components."
   ]
  },
  {
   "cell_type": "code",
   "execution_count": 15,
   "id": "c6319c39",
   "metadata": {},
   "outputs": [
    {
     "data": {
      "text/plain": [
       "array([9.87326863e-01, 1.26731083e-02, 1.82384102e-08])"
      ]
     },
     "execution_count": 15,
     "metadata": {},
     "output_type": "execute_result"
    }
   ],
   "source": [
    "pca.explained_variance_ratio_\n"
   ]
  },
  {
   "cell_type": "markdown",
   "id": "60324cf5",
   "metadata": {},
   "source": [
    "### Logistic Regression"
   ]
  },
  {
   "cell_type": "code",
   "execution_count": 17,
   "id": "3fea311b",
   "metadata": {},
   "outputs": [],
   "source": [
    "from sklearn.model_selection import StratifiedShuffleSplit\n",
    "\n",
    "split = StratifiedShuffleSplit(1, test_size=0.1)\n",
    "train_idx, test_idx = next(split.split(X, y))\n",
    "train_x = X[train_idx]\n",
    "test_x = X[test_idx]\n",
    "\n",
    "train_y = y[train_idx]\n",
    "test_y = y[test_idx]"
   ]
  },
  {
   "cell_type": "markdown",
   "id": "d27049d1",
   "metadata": {},
   "source": [
    "### Scaling the data"
   ]
  },
  {
   "cell_type": "code",
   "execution_count": 18,
   "id": "cf441805",
   "metadata": {},
   "outputs": [],
   "source": [
    "from sklearn.preprocessing import StandardScaler\n",
    "sc = StandardScaler()\n",
    "train_x = sc.fit_transform(train_x)\n",
    "test_x = sc.transform(test_x)"
   ]
  },
  {
   "cell_type": "code",
   "execution_count": 19,
   "id": "508b0b7e",
   "metadata": {},
   "outputs": [
    {
     "data": {
      "text/plain": [
       "LogisticRegression(multi_class='ovr', random_state=0)"
      ]
     },
     "execution_count": 19,
     "metadata": {},
     "output_type": "execute_result"
    }
   ],
   "source": [
    "from sklearn.linear_model import LogisticRegression\n",
    "classifier = LogisticRegression(multi_class='ovr', random_state = 0)\n",
    "classifier.fit(train_x, train_y)"
   ]
  },
  {
   "cell_type": "code",
   "execution_count": 20,
   "id": "613562bc",
   "metadata": {},
   "outputs": [
    {
     "name": "stdout",
     "output_type": "stream",
     "text": [
      "[[2409  310]\n",
      " [ 123  399]]\n"
     ]
    },
    {
     "data": {
      "text/plain": [
       "0.8663992594878124"
      ]
     },
     "execution_count": 20,
     "metadata": {},
     "output_type": "execute_result"
    }
   ],
   "source": [
    "from sklearn.metrics import confusion_matrix, accuracy_score\n",
    "predictions = classifier.predict(test_x)\n",
    "cm = confusion_matrix(predictions, test_y)\n",
    "print(cm)\n",
    "accuracy_score(predictions, test_y)"
   ]
  },
  {
   "cell_type": "code",
   "execution_count": 22,
   "id": "989c6917",
   "metadata": {},
   "outputs": [
    {
     "data": {
      "text/plain": [
       "<AxesSubplot:>"
      ]
     },
     "execution_count": 22,
     "metadata": {},
     "output_type": "execute_result"
    },
    {
     "data": {
      "image/png": "[encoded data removed]",
      "text/plain": [
       "<Figure size 432x288 with 2 Axes>"
      ]
     },
     "metadata": {
      "needs_background": "light"
     },
     "output_type": "display_data"
    }
   ],
   "source": [
    "import seaborn as sns\n",
    "\n",
    "sns.heatmap(cm, annot=True)"
   ]
  },
  {
   "cell_type": "code",
   "execution_count": 23,
   "id": "ede03c7b",
   "metadata": {},
   "outputs": [
    {
     "data": {
      "text/plain": [
       "<AxesSubplot:>"
      ]
     },
     "execution_count": 23,
     "metadata": {},
     "output_type": "execute_result"
    },
    {
     "data": {
      "image/png": "[encoded data removed]",
      "text/plain": [
       "<Figure size 432x288 with 2 Axes>"
      ]
     },
     "metadata": {
      "needs_background": "light"
     },
     "output_type": "display_data"
    }
   ],
   "source": [
    "sns.heatmap(cm/np.sum(cm), annot=True, fmt='.2%',cmap='Blues')\n"
   ]
  },
  {
   "cell_type": "code",
   "execution_count": null,
   "id": "317c01dd",
   "metadata": {},
   "outputs": [],
   "source": []
  }
 ],
 "metadata": {
  "kernelspec": {
   "display_name": "Python 3 (ipykernel)",
   "language": "python",
   "name": "python3"
  },
  "language_info": {
   "codemirror_mode": {
    "name": "ipython",
    "version": 3
   },
   "file_extension": ".py",
   "mimetype": "text/x-python",
   "name": "python",
   "nbconvert_exporter": "python",
   "pygments_lexer": "ipython3",
   "version": "3.9.7"
  }
 },
 "nbformat": 4,
 "nbformat_minor": 5
}
