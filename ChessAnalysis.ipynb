{
 "cells": [
  {
   "cell_type": "markdown",
   "id": "3d00876d",
   "metadata": {},
   "source": [
    "### Description of columns\n",
    "- id: The internal Lichess game id\n",
    "- rated: If the game was played with rating points on the line\n",
    "- created_at and last_move_at: The start and end times, respectively, of the game\n",
    "- turns: The number of turns before the game ended\n",
    "- victory_status: How the win was achieved; notable ones for our purposes include \"mate\" (the loser was placed in checkmate), \"resign\" (the loser resigned), \"outoftime\" (the loser ran out of - time to make their moves; often referred to as \"flagging\") and \"draw\" (users agreed to a draw).\n",
    "- winner: The winner, by color of pieces (or \"draw\" if the game was drawn)\n",
    "- increment code: The amount of time the users played with.It's an amount of time added to the clock after each move is made. In format x + y, x refers to the number of minutes players start with, and y refers to the number of seconds they gain every time they make a move. Common formats include 1 + 0 (\"bullet\"), 3 + 0 or 5 + 0 (\"blitz\"), and 10 + something (\"rapid\")\n",
    "- hite/black id: The lichess username of the white/black player\n",
    "- white/black rating: The lichess ELO of the white/black player\n",
    "- moves: A complete list of moves played in the game, given in algebraic notation) (see here for a more detailed explanation)\n",
    "- opening_eco: A standardized short code for openings; see list of ecos\n",
    "- opening_name: The common referrent for the opening name; Openings are referred to by both a general opening name and a variation name after (e.g. Italian Game: Schilling-Kostic Gambit means the Schilling-Kostic Gambit variation of the Italian Game.)\n",
    "- opening_ply: The number of moves considered to be played in the opening."
   ]
  },
  {
   "cell_type": "code",
   "execution_count": 1,
   "id": "4e34f34a",
   "metadata": {},
   "outputs": [
    {
     "data": {
      "text/html": [
       "<div>\n",
       "<style scoped>\n",
       "    .dataframe tbody tr th:only-of-type {\n",
       "        vertical-align: middle;\n",
       "    }\n",
       "\n",
       "    .dataframe tbody tr th {\n",
       "        vertical-align: top;\n",
       "    }\n",
       "\n",
       "    .dataframe thead th {\n",
       "        text-align: right;\n",
       "    }\n",
       "</style>\n",
       "<table border=\"1\" class=\"dataframe\">\n",
       "  <thead>\n",
       "    <tr style=\"text-align: right;\">\n",
       "      <th></th>\n",
       "      <th>id</th>\n",
       "      <th>rated</th>\n",
       "      <th>created_at</th>\n",
       "      <th>last_move_at</th>\n",
       "      <th>turns</th>\n",
       "      <th>victory_status</th>\n",
       "      <th>winner</th>\n",
       "      <th>increment_code</th>\n",
       "      <th>white_id</th>\n",
       "      <th>white_rating</th>\n",
       "      <th>black_id</th>\n",
       "      <th>black_rating</th>\n",
       "      <th>moves</th>\n",
       "      <th>opening_eco</th>\n",
       "      <th>opening_name</th>\n",
       "      <th>opening_ply</th>\n",
       "    </tr>\n",
       "  </thead>\n",
       "  <tbody>\n",
       "    <tr>\n",
       "      <th>0</th>\n",
       "      <td>TZJHLljE</td>\n",
       "      <td>False</td>\n",
       "      <td>1.504210e+12</td>\n",
       "      <td>1.504210e+12</td>\n",
       "      <td>13</td>\n",
       "      <td>outoftime</td>\n",
       "      <td>white</td>\n",
       "      <td>15+2</td>\n",
       "      <td>bourgris</td>\n",
       "      <td>1500</td>\n",
       "      <td>a-00</td>\n",
       "      <td>1191</td>\n",
       "      <td>d4 d5 c4 c6 cxd5 e6 dxe6 fxe6 Nf3 Bb4+ Nc3 Ba5...</td>\n",
       "      <td>D10</td>\n",
       "      <td>Slav Defense: Exchange Variation</td>\n",
       "      <td>5</td>\n",
       "    </tr>\n",
       "    <tr>\n",
       "      <th>1</th>\n",
       "      <td>l1NXvwaE</td>\n",
       "      <td>True</td>\n",
       "      <td>1.504130e+12</td>\n",
       "      <td>1.504130e+12</td>\n",
       "      <td>16</td>\n",
       "      <td>resign</td>\n",
       "      <td>black</td>\n",
       "      <td>5+10</td>\n",
       "      <td>a-00</td>\n",
       "      <td>1322</td>\n",
       "      <td>skinnerua</td>\n",
       "      <td>1261</td>\n",
       "      <td>d4 Nc6 e4 e5 f4 f6 dxe5 fxe5 fxe5 Nxe5 Qd4 Nc6...</td>\n",
       "      <td>B00</td>\n",
       "      <td>Nimzowitsch Defense: Kennedy Variation</td>\n",
       "      <td>4</td>\n",
       "    </tr>\n",
       "    <tr>\n",
       "      <th>2</th>\n",
       "      <td>mIICvQHh</td>\n",
       "      <td>True</td>\n",
       "      <td>1.504130e+12</td>\n",
       "      <td>1.504130e+12</td>\n",
       "      <td>61</td>\n",
       "      <td>mate</td>\n",
       "      <td>white</td>\n",
       "      <td>5+10</td>\n",
       "      <td>ischia</td>\n",
       "      <td>1496</td>\n",
       "      <td>a-00</td>\n",
       "      <td>1500</td>\n",
       "      <td>e4 e5 d3 d6 Be3 c6 Be2 b5 Nd2 a5 a4 c5 axb5 Nc...</td>\n",
       "      <td>C20</td>\n",
       "      <td>King's Pawn Game: Leonardis Variation</td>\n",
       "      <td>3</td>\n",
       "    </tr>\n",
       "    <tr>\n",
       "      <th>3</th>\n",
       "      <td>kWKvrqYL</td>\n",
       "      <td>True</td>\n",
       "      <td>1.504110e+12</td>\n",
       "      <td>1.504110e+12</td>\n",
       "      <td>61</td>\n",
       "      <td>mate</td>\n",
       "      <td>white</td>\n",
       "      <td>20+0</td>\n",
       "      <td>daniamurashov</td>\n",
       "      <td>1439</td>\n",
       "      <td>adivanov2009</td>\n",
       "      <td>1454</td>\n",
       "      <td>d4 d5 Nf3 Bf5 Nc3 Nf6 Bf4 Ng4 e3 Nc6 Be2 Qd7 O...</td>\n",
       "      <td>D02</td>\n",
       "      <td>Queen's Pawn Game: Zukertort Variation</td>\n",
       "      <td>3</td>\n",
       "    </tr>\n",
       "    <tr>\n",
       "      <th>4</th>\n",
       "      <td>9tXo1AUZ</td>\n",
       "      <td>True</td>\n",
       "      <td>1.504030e+12</td>\n",
       "      <td>1.504030e+12</td>\n",
       "      <td>95</td>\n",
       "      <td>mate</td>\n",
       "      <td>white</td>\n",
       "      <td>30+3</td>\n",
       "      <td>nik221107</td>\n",
       "      <td>1523</td>\n",
       "      <td>adivanov2009</td>\n",
       "      <td>1469</td>\n",
       "      <td>e4 e5 Nf3 d6 d4 Nc6 d5 Nb4 a3 Na6 Nc3 Be7 b4 N...</td>\n",
       "      <td>C41</td>\n",
       "      <td>Philidor Defense</td>\n",
       "      <td>5</td>\n",
       "    </tr>\n",
       "  </tbody>\n",
       "</table>\n",
       "</div>"
      ],
      "text/plain": [
       "         id  rated    created_at  last_move_at  turns victory_status winner  \\\n",
       "0  TZJHLljE  False  1.504210e+12  1.504210e+12     13      outoftime  white   \n",
       "1  l1NXvwaE   True  1.504130e+12  1.504130e+12     16         resign  black   \n",
       "2  mIICvQHh   True  1.504130e+12  1.504130e+12     61           mate  white   \n",
       "3  kWKvrqYL   True  1.504110e+12  1.504110e+12     61           mate  white   \n",
       "4  9tXo1AUZ   True  1.504030e+12  1.504030e+12     95           mate  white   \n",
       "\n",
       "  increment_code       white_id  white_rating      black_id  black_rating  \\\n",
       "0           15+2       bourgris          1500          a-00          1191   \n",
       "1           5+10           a-00          1322     skinnerua          1261   \n",
       "2           5+10         ischia          1496          a-00          1500   \n",
       "3           20+0  daniamurashov          1439  adivanov2009          1454   \n",
       "4           30+3      nik221107          1523  adivanov2009          1469   \n",
       "\n",
       "                                               moves opening_eco  \\\n",
       "0  d4 d5 c4 c6 cxd5 e6 dxe6 fxe6 Nf3 Bb4+ Nc3 Ba5...         D10   \n",
       "1  d4 Nc6 e4 e5 f4 f6 dxe5 fxe5 fxe5 Nxe5 Qd4 Nc6...         B00   \n",
       "2  e4 e5 d3 d6 Be3 c6 Be2 b5 Nd2 a5 a4 c5 axb5 Nc...         C20   \n",
       "3  d4 d5 Nf3 Bf5 Nc3 Nf6 Bf4 Ng4 e3 Nc6 Be2 Qd7 O...         D02   \n",
       "4  e4 e5 Nf3 d6 d4 Nc6 d5 Nb4 a3 Na6 Nc3 Be7 b4 N...         C41   \n",
       "\n",
       "                             opening_name  opening_ply  \n",
       "0        Slav Defense: Exchange Variation            5  \n",
       "1  Nimzowitsch Defense: Kennedy Variation            4  \n",
       "2   King's Pawn Game: Leonardis Variation            3  \n",
       "3  Queen's Pawn Game: Zukertort Variation            3  \n",
       "4                        Philidor Defense            5  "
      ]
     },
     "execution_count": 1,
     "metadata": {},
     "output_type": "execute_result"
    }
   ],
   "source": [
    "import numpy as np\n",
    "import pandas as pd\n",
    "import matplotlib.pyplot as plt\n",
    "import seaborn as sns\n",
    "%matplotlib inline\n",
    "\n",
    "df = pd.read_csv('games.csv')\n",
    "df.head() "
   ]
  },
  {
   "cell_type": "markdown",
   "id": "66a3a406",
   "metadata": {},
   "source": [
    "### Checking data types"
   ]
  },
  {
   "cell_type": "code",
   "execution_count": 2,
   "id": "24fe1c5e",
   "metadata": {},
   "outputs": [
    {
     "name": "stdout",
     "output_type": "stream",
     "text": [
      "<class 'pandas.core.frame.DataFrame'>\n",
      "RangeIndex: 20058 entries, 0 to 20057\n",
      "Data columns (total 16 columns):\n",
      " #   Column          Non-Null Count  Dtype  \n",
      "---  ------          --------------  -----  \n",
      " 0   id              20058 non-null  object \n",
      " 1   rated           20058 non-null  bool   \n",
      " 2   created_at      20058 non-null  float64\n",
      " 3   last_move_at    20058 non-null  float64\n",
      " 4   turns           20058 non-null  int64  \n",
      " 5   victory_status  20058 non-null  object \n",
      " 6   winner          20058 non-null  object \n",
      " 7   increment_code  20058 non-null  object \n",
      " 8   white_id        20058 non-null  object \n",
      " 9   white_rating    20058 non-null  int64  \n",
      " 10  black_id        20058 non-null  object \n",
      " 11  black_rating    20058 non-null  int64  \n",
      " 12  moves           20058 non-null  object \n",
      " 13  opening_eco     20058 non-null  object \n",
      " 14  opening_name    20058 non-null  object \n",
      " 15  opening_ply     20058 non-null  int64  \n",
      "dtypes: bool(1), float64(2), int64(4), object(9)\n",
      "memory usage: 2.3+ MB\n"
     ]
    }
   ],
   "source": [
    "df.info()"
   ]
  },
  {
   "cell_type": "markdown",
   "id": "071d6aef",
   "metadata": {},
   "source": [
    "### Removing unnecessary columns\n",
    "* There are a lot of columns that we are not going to use in any manner and there are some columns that we will add in later sections which will help us in categorizing and visualizing data. So, we can safely drop those unnecessary columns. After dropping those columns, we are left with"
   ]
  },
  {
   "cell_type": "code",
   "execution_count": 7,
   "id": "7461b998",
   "metadata": {},
   "outputs": [
    {
     "name": "stdout",
     "output_type": "stream",
     "text": [
      "<class 'pandas.core.frame.DataFrame'>\n",
      "RangeIndex: 20058 entries, 0 to 20057\n",
      "Data columns (total 13 columns):\n",
      " #   Column          Non-Null Count  Dtype \n",
      "---  ------          --------------  ----- \n",
      " 0   rated           20058 non-null  bool  \n",
      " 1   turns           20058 non-null  int64 \n",
      " 2   victory_status  20058 non-null  object\n",
      " 3   winner          20058 non-null  object\n",
      " 4   increment_code  20058 non-null  object\n",
      " 5   white_id        20058 non-null  object\n",
      " 6   white_rating    20058 non-null  int64 \n",
      " 7   black_id        20058 non-null  object\n",
      " 8   black_rating    20058 non-null  int64 \n",
      " 9   moves           20058 non-null  object\n",
      " 10  opening_eco     20058 non-null  object\n",
      " 11  opening_name    20058 non-null  object\n",
      " 12  opening_ply     20058 non-null  int64 \n",
      "dtypes: bool(1), int64(4), object(8)\n",
      "memory usage: 1.9+ MB\n"
     ]
    }
   ],
   "source": [
    "df = df.drop(['id','created_at', 'last_move_at'], axis = 1)\n",
    "df.info()"
   ]
  },
  {
   "cell_type": "markdown",
   "id": "47eea7c9",
   "metadata": {},
   "source": [
    "* We convert Object data type to Categorical data type"
   ]
  },
  {
   "cell_type": "code",
   "execution_count": 8,
   "id": "cbb0ec1a",
   "metadata": {},
   "outputs": [
    {
     "name": "stdout",
     "output_type": "stream",
     "text": [
      "<class 'pandas.core.frame.DataFrame'>\n",
      "RangeIndex: 20058 entries, 0 to 20057\n",
      "Data columns (total 13 columns):\n",
      " #   Column          Non-Null Count  Dtype   \n",
      "---  ------          --------------  -----   \n",
      " 0   rated           20058 non-null  bool    \n",
      " 1   turns           20058 non-null  int64   \n",
      " 2   victory_status  20058 non-null  category\n",
      " 3   winner          20058 non-null  category\n",
      " 4   increment_code  20058 non-null  category\n",
      " 5   white_id        20058 non-null  category\n",
      " 6   white_rating    20058 non-null  int64   \n",
      " 7   black_id        20058 non-null  category\n",
      " 8   black_rating    20058 non-null  int64   \n",
      " 9   moves           20058 non-null  category\n",
      " 10  opening_eco     20058 non-null  category\n",
      " 11  opening_name    20058 non-null  category\n",
      " 12  opening_ply     20058 non-null  int64   \n",
      "dtypes: bool(1), category(8), int64(4)\n",
      "memory usage: 2.3 MB\n"
     ]
    }
   ],
   "source": [
    "df['victory_status'] = df['victory_status'].astype('category')\n",
    "df['winner'] = df['winner'].astype('category')\n",
    "df['increment_code'] = df['increment_code'].astype('category')\n",
    "df['white_id'] = df['white_id'].astype('category')\n",
    "df['black_id'] = df['black_id'].astype('category')\n",
    "df['moves'] = df['moves'].astype('category')\n",
    "df['opening_eco'] = df['opening_eco'].astype('category')\n",
    "df['opening_name'] = df['opening_name'].astype('category')\n",
    "\n",
    "\n",
    "df.info()"
   ]
  },
  {
   "cell_type": "markdown",
   "id": "f1fa965c",
   "metadata": {},
   "source": [
    "#### Data Distribution\n",
    "* We should check the statistical summary of each column to gain insight into the distribution of data in each column. Statistical measurements can tell you any mathematical problems you may have, such as overly significant values and large deviations.\n",
    "* It returns results for numeric variables only, not for text data. If we want to see them too, we can add the 'include='all' parameter to the method to see all the variables together, or the 'include=['O']' parameter to see only the text variables."
   ]
  },
  {
   "cell_type": "code",
   "execution_count": 9,
   "id": "6ba1c9f5",
   "metadata": {},
   "outputs": [
    {
     "data": {
      "text/html": [
       "<div>\n",
       "<style scoped>\n",
       "    .dataframe tbody tr th:only-of-type {\n",
       "        vertical-align: middle;\n",
       "    }\n",
       "\n",
       "    .dataframe tbody tr th {\n",
       "        vertical-align: top;\n",
       "    }\n",
       "\n",
       "    .dataframe thead th {\n",
       "        text-align: right;\n",
       "    }\n",
       "</style>\n",
       "<table border=\"1\" class=\"dataframe\">\n",
       "  <thead>\n",
       "    <tr style=\"text-align: right;\">\n",
       "      <th></th>\n",
       "      <th>turns</th>\n",
       "      <th>white_rating</th>\n",
       "      <th>black_rating</th>\n",
       "      <th>opening_ply</th>\n",
       "    </tr>\n",
       "  </thead>\n",
       "  <tbody>\n",
       "    <tr>\n",
       "      <th>count</th>\n",
       "      <td>20058.000000</td>\n",
       "      <td>20058.000000</td>\n",
       "      <td>20058.000000</td>\n",
       "      <td>20058.000000</td>\n",
       "    </tr>\n",
       "    <tr>\n",
       "      <th>mean</th>\n",
       "      <td>60.465999</td>\n",
       "      <td>1596.631868</td>\n",
       "      <td>1588.831987</td>\n",
       "      <td>4.816981</td>\n",
       "    </tr>\n",
       "    <tr>\n",
       "      <th>std</th>\n",
       "      <td>33.570585</td>\n",
       "      <td>291.253376</td>\n",
       "      <td>291.036126</td>\n",
       "      <td>2.797152</td>\n",
       "    </tr>\n",
       "    <tr>\n",
       "      <th>min</th>\n",
       "      <td>1.000000</td>\n",
       "      <td>784.000000</td>\n",
       "      <td>789.000000</td>\n",
       "      <td>1.000000</td>\n",
       "    </tr>\n",
       "    <tr>\n",
       "      <th>25%</th>\n",
       "      <td>37.000000</td>\n",
       "      <td>1398.000000</td>\n",
       "      <td>1391.000000</td>\n",
       "      <td>3.000000</td>\n",
       "    </tr>\n",
       "    <tr>\n",
       "      <th>50%</th>\n",
       "      <td>55.000000</td>\n",
       "      <td>1567.000000</td>\n",
       "      <td>1562.000000</td>\n",
       "      <td>4.000000</td>\n",
       "    </tr>\n",
       "    <tr>\n",
       "      <th>75%</th>\n",
       "      <td>79.000000</td>\n",
       "      <td>1793.000000</td>\n",
       "      <td>1784.000000</td>\n",
       "      <td>6.000000</td>\n",
       "    </tr>\n",
       "    <tr>\n",
       "      <th>max</th>\n",
       "      <td>349.000000</td>\n",
       "      <td>2700.000000</td>\n",
       "      <td>2723.000000</td>\n",
       "      <td>28.000000</td>\n",
       "    </tr>\n",
       "  </tbody>\n",
       "</table>\n",
       "</div>"
      ],
      "text/plain": [
       "              turns  white_rating  black_rating   opening_ply\n",
       "count  20058.000000  20058.000000  20058.000000  20058.000000\n",
       "mean      60.465999   1596.631868   1588.831987      4.816981\n",
       "std       33.570585    291.253376    291.036126      2.797152\n",
       "min        1.000000    784.000000    789.000000      1.000000\n",
       "25%       37.000000   1398.000000   1391.000000      3.000000\n",
       "50%       55.000000   1567.000000   1562.000000      4.000000\n",
       "75%       79.000000   1793.000000   1784.000000      6.000000\n",
       "max      349.000000   2700.000000   2723.000000     28.000000"
      ]
     },
     "execution_count": 9,
     "metadata": {},
     "output_type": "execute_result"
    }
   ],
   "source": [
    "#df.describe(include='O')\n",
    "#df.describe(include='all')\n",
    "df.describe()"
   ]
  },
  {
   "cell_type": "code",
   "execution_count": 10,
   "id": "70a28f05",
   "metadata": {},
   "outputs": [
    {
     "name": "stdout",
     "output_type": "stream",
     "text": [
      "      Columns_Name  Num_Unique\n",
      "0            rated           2\n",
      "3           winner           3\n",
      "2   victory_status           4\n",
      "12     opening_ply          23\n",
      "1            turns         211\n",
      "10     opening_eco         365\n",
      "4   increment_code         400\n",
      "11    opening_name        1477\n",
      "6     white_rating        1516\n",
      "8     black_rating        1521\n",
      "7         black_id        9331\n",
      "5         white_id        9438\n",
      "9            moves       18920\n"
     ]
    }
   ],
   "source": [
    "#showing all the unique values in a column.\n",
    "unique_counts = df.from_records([(col, df[col].nunique()) for col in df.columns],\n",
    "                                columns = ['Columns_Name','Num_Unique']).sort_values(by=['Num_Unique'])\n",
    "print(unique_counts)"
   ]
  },
  {
   "cell_type": "markdown",
   "id": "59e81da4",
   "metadata": {},
   "source": [
    "- This table highlights a couple of items that will help determine which values should be categorical."
   ]
  },
  {
   "cell_type": "markdown",
   "id": "1126440e",
   "metadata": {},
   "source": [
    "### Check the null values¶\n",
    "If there are missing values in the Dataset before doing any statistical analysis, we need to handle those missing values.\n",
    "- MCAR(Missing completely at random): These values do not depend on any other features.\n",
    "- MAR(Missing at random): These values may be dependent on some other features.\n",
    "- MNAR(Missing not at random): Missing values depend on the unobserved data."
   ]
  },
  {
   "cell_type": "code",
   "execution_count": 11,
   "id": "b4299006",
   "metadata": {},
   "outputs": [
    {
     "data": {
      "text/plain": [
       "rated             0\n",
       "turns             0\n",
       "victory_status    0\n",
       "winner            0\n",
       "increment_code    0\n",
       "white_id          0\n",
       "white_rating      0\n",
       "black_id          0\n",
       "black_rating      0\n",
       "moves             0\n",
       "opening_eco       0\n",
       "opening_name      0\n",
       "opening_ply       0\n",
       "dtype: int64"
      ]
     },
     "execution_count": 11,
     "metadata": {},
     "output_type": "execute_result"
    }
   ],
   "source": [
    "# Checking the missing values\n",
    "df.isnull().sum() \n",
    "#df.isnull().sum().sort_values(ascending=False) >> Finding the number of missing data in df and sorting in descending order"
   ]
  },
  {
   "cell_type": "markdown",
   "id": "dfa12f59",
   "metadata": {},
   "source": [
    "### Exploratory Analysis & Data Visualization"
   ]
  },
  {
   "cell_type": "markdown",
   "id": "61cd6098",
   "metadata": {},
   "source": [
    "### Q1. How frequently has each victory status?"
   ]
  },
  {
   "cell_type": "code",
   "execution_count": 12,
   "id": "f78a141b",
   "metadata": {},
   "outputs": [
    {
     "data": {
      "image/png": "[encoded data removed]",
      "text/plain": [
       "<Figure size 432x288 with 1 Axes>"
      ]
     },
     "metadata": {
      "needs_background": "light"
     },
     "output_type": "display_data"
    }
   ],
   "source": [
    "# Let's calculate the percentage of each job status category.\n",
    "df.victory_status.value_counts(normalize=True)\n",
    "\n",
    "#plot the bar graph of percentage victory_status categories\n",
    "df.victory_status.value_counts(normalize=True).plot.barh()\n",
    "plt.show()\n"
   ]
  },
  {
   "cell_type": "markdown",
   "id": "490a84f7",
   "metadata": {},
   "source": [
    "- mate the loser was placed in checkmate\n",
    "- resign the loser resigned\n",
    "- outoftime the loser ran out of - time to make their moves; often referred to as \"flagging\"\n",
    "- draw users agreed to a draw."
   ]
  },
  {
   "cell_type": "markdown",
   "id": "9e294a5c",
   "metadata": {},
   "source": [
    "### Q2. How frequently has each color won a match?"
   ]
  },
  {
   "cell_type": "code",
   "execution_count": 21,
   "id": "3bcf7e7c",
   "metadata": {},
   "outputs": [],
   "source": [
    "white_winner, black_winner, draw_winner = df['winner'].value_counts()"
   ]
  },
  {
   "cell_type": "code",
   "execution_count": 23,
   "id": "99330867",
   "metadata": {},
   "outputs": [
    {
     "name": "stdout",
     "output_type": "stream",
     "text": [
      "20058\n"
     ]
    }
   ],
   "source": [
    "total_winner = df['winner'].value_counts().sum()\n",
    "print(total_winner)"
   ]
  },
  {
   "cell_type": "code",
   "execution_count": 25,
   "id": "f9f5d9fd",
   "metadata": {},
   "outputs": [],
   "source": [
    "white_win_percent = (white_winner/total_winner)*100\n",
    "black_win_percent = (black_winner/total_winner)*100\n",
    "draw_win_percent = (draw_winner/total_winner)*100"
   ]
  },
  {
   "cell_type": "code",
   "execution_count": 27,
   "id": "48954ed7",
   "metadata": {},
   "outputs": [
    {
     "name": "stdout",
     "output_type": "stream",
     "text": [
      "White has won 49.86 percent of all matches\n",
      "Black has won 45.4 percent of all matches\n",
      "There have been 4.74 percent draws in all matches\n"
     ]
    }
   ],
   "source": [
    "\n",
    "print(f\"White has won { round(white_win_percent, 2) } percent of all matches\")\n",
    "print(f\"Black has won { round(black_win_percent, 2) } percent of all matches\")\n",
    "print(f\"There have been { round(draw_win_percent, 2) } percent draws in all matches\")"
   ]
  },
  {
   "cell_type": "code",
   "execution_count": 13,
   "id": "df0f4d0c",
   "metadata": {},
   "outputs": [
    {
     "data": {
      "image/png": "[encoded data removed]",
      "text/plain": [
       "<Figure size 432x288 with 1 Axes>"
      ]
     },
     "metadata": {
      "needs_background": "light"
     },
     "output_type": "display_data"
    }
   ],
   "source": [
    "#Winner column distribution\n",
    "df.winner.value_counts(normalize=True)\n",
    "df.winner.value_counts(normalize=True).plot.barh()\n",
    "plt.show()"
   ]
  },
  {
   "cell_type": "markdown",
   "id": "e3687417",
   "metadata": {},
   "source": [
    "\n",
    "### Q3. How many rated games were played?"
   ]
  },
  {
   "cell_type": "code",
   "execution_count": 28,
   "id": "01728ffd",
   "metadata": {},
   "outputs": [
    {
     "name": "stdout",
     "output_type": "stream",
     "text": [
      "The number of rated games were 16155.\n"
     ]
    }
   ],
   "source": [
    "print('The number of rated games were {}.'.format(df[df.rated ==True].shape[0]))"
   ]
  },
  {
   "cell_type": "code",
   "execution_count": 29,
   "id": "c318c5e4",
   "metadata": {},
   "outputs": [
    {
     "name": "stdout",
     "output_type": "stream",
     "text": [
      "Mean Rating : 1592.73\n",
      "Max Rating : 2723\n",
      "Min Rating : 784\n",
      "Std Rating : 291.16\n"
     ]
    },
    {
     "data": {
      "image/png": "[encoded data removed]",
      "text/plain": [
       "<Figure size 432x288 with 1 Axes>"
      ]
     },
     "metadata": {
      "needs_background": "light"
     },
     "output_type": "display_data"
    }
   ],
   "source": [
    "w_rate = df[\"white_rating\"].tolist()\n",
    "b_rate = df[\"black_rating\"].tolist()\n",
    "w_rate.extend(b_rate) #Python Concatenating Lists extend()\n",
    "mean_rating, max_rating, min_rating, std_rating = round(np.mean(w_rate), 2), max(w_rate), min(w_rate), round(np.std(w_rate), 2)\n",
    "\n",
    "print(\"Mean Rating :\", mean_rating)\n",
    "print(\"Max Rating :\", max_rating)\n",
    "print(\"Min Rating :\", min_rating)\n",
    "print(\"Std Rating :\", std_rating)\n",
    "\n",
    "plt.hist(w_rate, histtype=\"bar\", rwidth=1, color=\"black\")\n",
    "plt.title(\"Distribution of Player Rating\")\n",
    "plt.xlabel(\"Player ratings\")\n",
    "plt.ylabel(\"Number of players\")\n",
    "plt.xticks(range(700, 3100, 300))\n",
    "plt.show()\n"
   ]
  },
  {
   "cell_type": "markdown",
   "id": "b61d6941",
   "metadata": {},
   "source": [
    "### Q4. What is the most preferred opening name?¶\n"
   ]
  },
  {
   "cell_type": "code",
   "execution_count": 43,
   "id": "6b21c01d",
   "metadata": {},
   "outputs": [
    {
     "data": {
      "text/plain": [
       "Van't Kruijs Opening                                                                  368\n",
       "Sicilian Defense                                                                      358\n",
       "Sicilian Defense: Bowdler Attack                                                      296\n",
       "Scotch Game                                                                           271\n",
       "French Defense: Knight Variation                                                      271\n",
       "                                                                                     ... \n",
       "Queen's Gambit Accepted: Bogoljubov Defense                                             1\n",
       "Queen's Gambit Accepted: Central Variation |  Rubinstein Defense                        1\n",
       "Queen's Gambit Accepted: Central Variation |  Rubinstein Defense |  Yefimov Gambit      1\n",
       "Queen's Gambit Accepted: Deferred Variation                                             1\n",
       "Zukertort Opening: Wade Defense                                                         1\n",
       "Name: opening_name, Length: 1477, dtype: int64"
      ]
     },
     "execution_count": 43,
     "metadata": {},
     "output_type": "execute_result"
    }
   ],
   "source": [
    "df['opening_name'].value_counts()"
   ]
  },
  {
   "cell_type": "code",
   "execution_count": 71,
   "id": "0b23aa4e",
   "metadata": {},
   "outputs": [],
   "source": [
    "most_choice = df['opening_name'].value_counts().head(10)"
   ]
  },
  {
   "cell_type": "code",
   "execution_count": 78,
   "id": "a337fe85",
   "metadata": {},
   "outputs": [],
   "source": [
    "#chess opening names are too long so we will shorten them\n",
    "def shorten_names(opening):\n",
    "    if ':' in opening:\n",
    "        opening = opening.split(':')[0]\n",
    "    while '|' in opening:\n",
    "        opening = opening.split('|')[0]\n",
    "    if '#' in opening:\n",
    "        opening = opening.split('#')[0]\n",
    "    if 'Accepted' in opening:\n",
    "        opening = opening.replace('Accepted', '')\n",
    "    if 'Declined' in opening:\n",
    "        opening = opening.replace('Declined', '')\n",
    "    if 'Refused' in opening:\n",
    "        opening = opening.replace('Refused', '')\n",
    "    return opening.strip()\n",
    "df['opening_name_s'] = df.opening_name.apply(shorten_names)"
   ]
  },
  {
   "cell_type": "code",
   "execution_count": 79,
   "id": "c47cf808",
   "metadata": {},
   "outputs": [
    {
     "data": {
      "text/plain": [
       "Text(0, 0.5, 'Number of Games')"
      ]
     },
     "execution_count": 79,
     "metadata": {},
     "output_type": "execute_result"
    },
    {
     "data": {
      "image/png": "[encoded data removed]",
      "text/plain": [
       "<Figure size 1440x576 with 1 Axes>"
      ]
     },
     "metadata": {
      "needs_background": "light"
     },
     "output_type": "display_data"
    }
   ],
   "source": [
    "plt.subplots(figsize=(20,8))\n",
    "plt.title(\"Distribution of Openings\")\n",
    "counts1 = df['opening_name_s'].value_counts()\n",
    "Data1 = df.loc[df['opening_name_s'].isin(counts1.index[counts1>600])]\n",
    "sns.countplot(Data1.main_openings)\n",
    "plt.xlabel('Openings Name')\n",
    "plt.ylabel('Number of Games')\n"
   ]
  },
  {
   "cell_type": "markdown",
   "id": "64f15136",
   "metadata": {},
   "source": [
    "#### opening_ply: The number of moves considered to be played in the opening"
   ]
  },
  {
   "cell_type": "code",
   "execution_count": 38,
   "id": "033366ae",
   "metadata": {},
   "outputs": [
    {
     "name": "stdout",
     "output_type": "stream",
     "text": [
      "28\n"
     ]
    }
   ],
   "source": [
    "highest_opening_play = df['opening_ply'].sort_values(ascending=False).max()\n",
    "print(highest_opening_play)\n"
   ]
  },
  {
   "cell_type": "code",
   "execution_count": 37,
   "id": "2c5f0752",
   "metadata": {},
   "outputs": [
    {
     "name": "stdout",
     "output_type": "stream",
     "text": [
      "4\n"
     ]
    }
   ],
   "source": [
    "highest_opening_count = df[df['opening_ply']==highest_opening_play]['opening_ply'].value_counts().max()\n",
    "print(highest_opening_count)\n"
   ]
  },
  {
   "cell_type": "code",
   "execution_count": 35,
   "id": "44737632",
   "metadata": {},
   "outputs": [
    {
     "name": "stdout",
     "output_type": "stream",
     "text": [
      "28 is maximum number of moves in an opening move. There are 4 opening plays with 28 moves.\n"
     ]
    }
   ],
   "source": [
    "print(f\"{highest_opening_play} is maximum number of moves in an opening move. There are {highest_opening_count} opening plays with {highest_opening_play} moves.\")\n"
   ]
  },
  {
   "cell_type": "code",
   "execution_count": null,
   "id": "29da1055",
   "metadata": {},
   "outputs": [],
   "source": []
  }
 ],
 "metadata": {
  "kernelspec": {
   "display_name": "Python 3 (ipykernel)",
   "language": "python",
   "name": "python3"
  },
  "language_info": {
   "codemirror_mode": {
    "name": "ipython",
    "version": 3
   },
   "file_extension": ".py",
   "mimetype": "text/x-python",
   "name": "python",
   "nbconvert_exporter": "python",
   "pygments_lexer": "ipython3",
   "version": "3.9.7"
  }
 },
 "nbformat": 4,
 "nbformat_minor": 5
}
